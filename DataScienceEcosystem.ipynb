{
  "metadata": {
    "kernelspec": {
      "name": "python",
      "display_name": "Python (Pyodide)",
      "language": "python"
    },
    "language_info": {
      "codemirror_mode": {
        "name": "python",
        "version": 3
      },
      "file_extension": ".py",
      "mimetype": "text/x-python",
      "name": "python",
      "nbconvert_exporter": "python",
      "pygments_lexer": "ipython3",
      "version": "3.8"
    }
  },
  "nbformat_minor": 5,
  "nbformat": 4,
  "cells": [
    {
      "id": "a8ec0189-90e5-4f5e-9940-744287769147",
      "cell_type": "markdown",
      "source": "# Data Science Tools and Ecosystem",
      "metadata": {}
    },
    {
      "id": "66c70384-9a21-417d-af77-29a4175c7fe5",
      "cell_type": "markdown",
      "source": "In this notebook, Data Science Tools and Ecosystem are summarized.",
      "metadata": {}
    },
    {
      "id": "54473be7-9a53-4894-9806-91be58c0947d",
      "cell_type": "markdown",
      "source": "Some of the popular languages that Data Scientists use are:\n1. Python\n2. R\n3. Javascript",
      "metadata": {}
    },
    {
      "id": "d0ac02d1-04f0-49b0-afa1-b1f7f8da9f4d",
      "cell_type": "markdown",
      "source": "Some of the commonly used libraries used by Data Scientists include:\n\n1. Pandas  \n2. NumPy  \n3. Matplotlib  \n",
      "metadata": {}
    },
    {
      "id": "a103b277-6675-4f0f-b037-d048777b5b87",
      "cell_type": "markdown",
      "source": "| Data Science Tools |\n|:--------------------|\n| Spyder             |\n| VS Code            |\n| Google Colab       |\n",
      "metadata": {}
    },
    {
      "id": "46aa48ee-2578-4add-a91d-c3211f094f92",
      "cell_type": "markdown",
      "source": "### Below are a few examples of evaluating arithmetic expressions in Python.\n",
      "metadata": {}
    },
    {
      "id": "cc843d57-1fb6-4aaf-b799-fedec81a966c",
      "cell_type": "code",
      "source": "# This is a simple arithmetic expression to multiply then add integers\n( 3 * 4 ) + 5",
      "metadata": {
        "trusted": true
      },
      "outputs": [
        {
          "execution_count": 1,
          "output_type": "execute_result",
          "data": {
            "text/plain": "17"
          },
          "metadata": {}
        }
      ],
      "execution_count": 1
    },
    {
      "id": "bf0a82e1-acca-430c-9f93-1f601153c7b3",
      "cell_type": "code",
      "source": "# This will convert 200 minutes to hours by dividing by 60\n200 / 60",
      "metadata": {
        "trusted": true
      },
      "outputs": [
        {
          "execution_count": 2,
          "output_type": "execute_result",
          "data": {
            "text/plain": "3.3333333333333335"
          },
          "metadata": {}
        }
      ],
      "execution_count": 2
    },
    {
      "id": "2eed1cac-8714-4eb7-b15c-290a57efb9f9",
      "cell_type": "markdown",
      "source": "**Objectives:**\n\n- List popular languages for Data Science  \n- Identify commonly used libraries in Data Science  \n- Create simple Markdown tables  \n- Demonstrate basic arithmetic expressions in Python  \n- Convert minutes into hours using Python expressions  ",
      "metadata": {}
    },
    {
      "id": "562987ce-2124-45f8-9d61-f9c32877c9ee",
      "cell_type": "markdown",
      "source": "## Author\nEric Chisholm",
      "metadata": {}
    },
    {
      "id": "25a32a47-cec8-41a5-902c-a6ab7ff7c78b",
      "cell_type": "code",
      "source": "",
      "metadata": {
        "trusted": true
      },
      "outputs": [],
      "execution_count": null
